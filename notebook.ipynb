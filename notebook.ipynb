{
  "cells": [
    {
      "cell_type": "markdown",
      "metadata": {
        "id": "r89PZWmXI--Z"
      },
      "source": [
        "# Capstone Project: selamat pagi anak-anakku"
      ]
    },
    {
      "cell_type": "markdown",
      "metadata": {
        "id": "jFZWTfsWI--i"
      },
      "source": [
        "- Amelia Yunisa\n",
        "- Mochamad Bayu Safutra\n",
        "- Rio Ferdinand\n",
        "- Rizka Salisa Puteri"
      ]
    },
    {
      "cell_type": "markdown",
      "metadata": {
        "id": "K8oVqHKGI--k"
      },
      "source": [
        "## Import Library"
      ]
    },
    {
      "cell_type": "code",
      "execution_count": 1,
      "metadata": {
        "id": "YHef2fjUI--m"
      },
      "outputs": [],
      "source": [
        "import os, glob, random, shutil\n",
        "import matplotlib.pyplot as plt\n",
        "import pandas as pd\n",
        "import numpy as np\n",
        "import tensorflow as tf\n",
        "from tensorflow.keras import layers, models\n",
        "from tensorflow.keras.models import load_model\n",
        "import tensorflow as tf\n",
        "# import tensorflowjs as tfjs\n",
        "from tensorflow.keras.preprocessing.image import ImageDataGenerator\n",
        "from tensorflow.keras.models import Sequential\n",
        "from tensorflow.keras.layers import GlobalAveragePooling2D, Dense, Dropout\n",
        "from tensorflow.keras.applications import MobileNetV2\n",
        "from tensorflow.keras.callbacks import EarlyStopping, ModelCheckpoint, ReduceLROnPlateau, Callback "
      ]
    },
    {
      "cell_type": "markdown",
      "metadata": {
        "id": "P8E4vbBvJv1E"
      },
      "source": [
        "## Load Dataset Resep"
      ]
    },
    {
      "cell_type": "code",
      "execution_count": 2,
      "metadata": {
        "id": "mV5eQLqCJ0Q8"
      },
      "outputs": [
        {
          "name": "stdout",
          "output_type": "stream",
          "text": [
            "              Nama                                          Deskripsi  \\\n",
            "0      Ayam Goreng  Ayam Goreng adalah hidangan tradisional Indone...   \n",
            "1        Ayama Pop  Ayam Pop adalah hidangan tradisional Indonesia...   \n",
            "2            Bakso  Bakso adalah hidangan tradisional Indonesia ya...   \n",
            "3  Dendeng Batokok  Dendeng merupakan daging kering yang diiris ti...   \n",
            "4             Gado  Gado-gado adalah hidangan tradisional Indonesi...   \n",
            "\n",
            "                                               Resep  \n",
            "0  Bahan-bahan:\\n1 kg Ayam, cuci bersih dan poton...  \n",
            "1  Bahan-bahan :\\n1 ekor ayam kampung (bisa pake ...  \n",
            "2  Bahan-bahan\\n250 gr Fillet ayam bagian paha (s...  \n",
            "3  Bahan-bahan:\\n1 kg daging sapi\\n1 ons Cabai me...  \n",
            "4  Bahan-bahan:\\n1 buah timun (iris tipis)\\n2 tan...  \n",
            "<class 'pandas.core.frame.DataFrame'>\n",
            "RangeIndex: 32 entries, 0 to 31\n",
            "Data columns (total 3 columns):\n",
            " #   Column     Non-Null Count  Dtype \n",
            "---  ------     --------------  ----- \n",
            " 0   Nama       32 non-null     object\n",
            " 1   Deskripsi  32 non-null     object\n",
            " 2   Resep      32 non-null     object\n",
            "dtypes: object(3)\n",
            "memory usage: 896.0+ bytes\n",
            "None\n",
            "Nama         0\n",
            "Deskripsi    0\n",
            "Resep        0\n",
            "dtype: int64\n",
            "0\n"
          ]
        }
      ],
      "source": [
        "df = pd.read_csv('dataset_resep.csv')\n",
        "\n",
        "print(df.head())\n",
        "\n",
        "print(df.info())\n",
        "\n",
        "# print(df.describe())\n",
        "\n",
        "print(df.isnull().sum())\n",
        "print(df.duplicated().sum())"
      ]
    },
    {
      "cell_type": "markdown",
      "metadata": {
        "id": "074HJZbPI--p"
      },
      "source": [
        "## Splitting Data"
      ]
    },
    {
      "cell_type": "code",
      "execution_count": 3,
      "metadata": {
        "id": "oL7SCrDHI--q"
      },
      "outputs": [
        {
          "name": "stdout",
          "output_type": "stream",
          "text": [
            "ayam_goreng: train=74, validation=16, test=17\n",
            "ayam_pop: train=79, validation=16, test=18\n",
            "bakso: train=1507, validation=323, test=324\n",
            "dendeng_batokok: train=76, validation=16, test=17\n",
            "gado: train=1501, validation=321, test=323\n",
            "grontol: train=210, validation=45, test=45\n",
            "gudeg: train=328, validation=70, test=71\n",
            "gulai_ikan: train=77, validation=16, test=18\n",
            "gulai_tambusu: train=72, validation=15, test=16\n",
            "gulai_tunjang: train=83, validation=17, test=19\n",
            "kue_ape: train=101, validation=21, test=23\n",
            "kue_bika_ambon: train=142, validation=30, test=32\n",
            "kue_cenil: train=142, validation=30, test=31\n",
            "kue_dadar_gulung: train=162, validation=34, test=36\n",
            "kue_gethuk_lindri: train=154, validation=33, test=33\n",
            "kue_kastengel: train=154, validation=33, test=33\n",
            "kue_klepon: train=168, validation=36, test=36\n",
            "kue_lapis: train=168, validation=36, test=37\n",
            "kue_lemper: train=125, validation=27, test=28\n",
            "kue_lumpur: train=173, validation=37, test=38\n",
            "kue_nagasari: train=161, validation=34, test=35\n",
            "kue_pastel: train=161, validation=34, test=36\n",
            "kue_putri_salju: train=156, validation=33, test=35\n",
            "kue_risoles: train=165, validation=35, test=36\n",
            "lanting: train=210, validation=45, test=45\n",
            "lumpia: train=210, validation=45, test=45\n",
            "putu ayu: train=210, validation=45, test=45\n",
            "rendang: train=1529, validation=327, test=329\n",
            "serabi solo: train=210, validation=45, test=45\n",
            "telur_balado: train=77, validation=16, test=18\n",
            "telur_dadar: train=81, validation=17, test=18\n",
            "wajik: train=210, validation=45, test=45\n"
          ]
        }
      ],
      "source": [
        "import os, glob, random, shutil\n",
        "\n",
        "src_root  = 'food'\n",
        "dst_root  = 'food_split'\n",
        "splits    = {'train': .7, 'validation': .15, 'test': .15}\n",
        "\n",
        "# 1) Ambil daftar kelas dari src_root/train\n",
        "classes = os.listdir(os.path.join(src_root, 'train'))\n",
        "\n",
        "# 2) Buat direktori tujuan per split & per kelas\n",
        "for split in splits:\n",
        "    for cls in classes:\n",
        "        os.makedirs(os.path.join(dst_root, split, cls), exist_ok=True)\n",
        "\n",
        "# 3) Gabungkan file per kelas dari train/validation/test\n",
        "for cls in classes:\n",
        "    all_files = []\n",
        "    for sub in ['train','validation','test']:\n",
        "        pattern = os.path.join(src_root, sub, cls, '*')\n",
        "        all_files += glob.glob(pattern)\n",
        "\n",
        "    random.seed(42)\n",
        "    random.shuffle(all_files)\n",
        "    n = len(all_files)\n",
        "    n_train = int(splits['train'] * n)\n",
        "    n_val   = int(splits['validation']   * n)\n",
        "\n",
        "    train_files = all_files[:n_train]\n",
        "    val_files   = all_files[n_train:n_train+n_val]\n",
        "    test_files  = all_files[n_train+n_val:]\n",
        "\n",
        "    # 4) Copy ke folder baru\n",
        "    for f in train_files:\n",
        "        shutil.copy(f, os.path.join(dst_root, 'train', cls))\n",
        "    for f in val_files:\n",
        "        shutil.copy(f, os.path.join(dst_root, 'validation', cls))\n",
        "    for f in test_files:\n",
        "        shutil.copy(f, os.path.join(dst_root, 'test', cls))\n",
        "\n",
        "    print(f\"{cls}: train={len(train_files)}, validation={len(val_files)}, test={len(test_files)}\")\n"
      ]
    },
    {
      "cell_type": "markdown",
      "metadata": {},
      "source": [
        "## Load Dataset"
      ]
    },
    {
      "cell_type": "code",
      "execution_count": 4,
      "metadata": {},
      "outputs": [],
      "source": [
        "# 1. Atur path dan parameter global\n",
        "base_dir   = os.getcwd()\n",
        "IMG_SIZE   = (224, 224)\n",
        "BATCH_SIZE = 32"
      ]
    },
    {
      "cell_type": "markdown",
      "metadata": {},
      "source": [
        "## Augmentasi Data"
      ]
    },
    {
      "cell_type": "code",
      "execution_count": 9,
      "metadata": {},
      "outputs": [
        {
          "name": "stdout",
          "output_type": "stream",
          "text": [
            "Found 8695 images belonging to 32 classes.\n",
            "Found 1880 images belonging to 32 classes.\n",
            "Found 1912 images belonging to 32 classes.\n"
          ]
        }
      ],
      "source": [
        "train_gen = ImageDataGenerator(\n",
        "    rescale=1./255,\n",
        "    rotation_range=25,\n",
        "    zoom_range=0.2,\n",
        "    width_shift_range=0.1,\n",
        "    height_shift_range=0.1,\n",
        "    shear_range=0.1,\n",
        "    horizontal_flip=True,\n",
        "    fill_mode='nearest'\n",
        ")\n",
        "\n",
        "#    b) Hanya rescale untuk validation dan test\n",
        "val_test_gen = ImageDataGenerator(rescale=1./255)\n",
        "\n",
        "# 3. Buat generator\n",
        "train_generator = train_gen.flow_from_directory(\n",
        "    os.path.join(dst_root, 'train'),\n",
        "    target_size=IMG_SIZE,\n",
        "    batch_size=BATCH_SIZE,\n",
        "    class_mode='categorical', \n",
        "    shuffle=True\n",
        ")\n",
        "\n",
        "validation_generator = val_test_gen.flow_from_directory(\n",
        "    os.path.join(dst_root, 'validation'),\n",
        "    target_size=IMG_SIZE,\n",
        "    batch_size=BATCH_SIZE,\n",
        "    class_mode='categorical',\n",
        "    shuffle=False\n",
        ")\n",
        "\n",
        "test_generator = val_test_gen.flow_from_directory(\n",
        "    os.path.join(dst_root, 'test'),\n",
        "    target_size=IMG_SIZE,\n",
        "    batch_size=BATCH_SIZE,\n",
        "    class_mode='categorical',\n",
        "    shuffle=False\n",
        ")"
      ]
    },
    {
      "cell_type": "markdown",
      "metadata": {
        "id": "pzePdnTZI--q"
      },
      "source": [
        "## Modeling"
      ]
    },
    {
      "cell_type": "code",
      "execution_count": 11,
      "metadata": {
        "id": "k9AXHzPsI--r"
      },
      "outputs": [
        {
          "data": {
            "text/html": [
              "<pre style=\"white-space:pre;overflow-x:auto;line-height:normal;font-family:Menlo,'DejaVu Sans Mono',consolas,'Courier New',monospace\"><span style=\"font-weight: bold\">Model: \"sequential_1\"</span>\n",
              "</pre>\n"
            ],
            "text/plain": [
              "\u001b[1mModel: \"sequential_1\"\u001b[0m\n"
            ]
          },
          "metadata": {},
          "output_type": "display_data"
        },
        {
          "data": {
            "text/html": [
              "<pre style=\"white-space:pre;overflow-x:auto;line-height:normal;font-family:Menlo,'DejaVu Sans Mono',consolas,'Courier New',monospace\">┏━━━━━━━━━━━━━━━━━━━━━━━━━━━━━━━━━┳━━━━━━━━━━━━━━━━━━━━━━━━┳━━━━━━━━━━━━━━━┓\n",
              "┃<span style=\"font-weight: bold\"> Layer (type)                    </span>┃<span style=\"font-weight: bold\"> Output Shape           </span>┃<span style=\"font-weight: bold\">       Param # </span>┃\n",
              "┡━━━━━━━━━━━━━━━━━━━━━━━━━━━━━━━━━╇━━━━━━━━━━━━━━━━━━━━━━━━╇━━━━━━━━━━━━━━━┩\n",
              "│ mobilenetv2_1.00_224            │ (<span style=\"color: #00d7ff; text-decoration-color: #00d7ff\">None</span>, <span style=\"color: #00af00; text-decoration-color: #00af00\">7</span>, <span style=\"color: #00af00; text-decoration-color: #00af00\">7</span>, <span style=\"color: #00af00; text-decoration-color: #00af00\">1280</span>)     │     <span style=\"color: #00af00; text-decoration-color: #00af00\">2,257,984</span> │\n",
              "│ (<span style=\"color: #0087ff; text-decoration-color: #0087ff\">Functional</span>)                    │                        │               │\n",
              "├─────────────────────────────────┼────────────────────────┼───────────────┤\n",
              "│ conv2d_2 (<span style=\"color: #0087ff; text-decoration-color: #0087ff\">Conv2D</span>)               │ (<span style=\"color: #00d7ff; text-decoration-color: #00d7ff\">None</span>, <span style=\"color: #00af00; text-decoration-color: #00af00\">7</span>, <span style=\"color: #00af00; text-decoration-color: #00af00\">7</span>, <span style=\"color: #00af00; text-decoration-color: #00af00\">32</span>)       │       <span style=\"color: #00af00; text-decoration-color: #00af00\">368,672</span> │\n",
              "├─────────────────────────────────┼────────────────────────┼───────────────┤\n",
              "│ max_pooling2d_2 (<span style=\"color: #0087ff; text-decoration-color: #0087ff\">MaxPooling2D</span>)  │ (<span style=\"color: #00d7ff; text-decoration-color: #00d7ff\">None</span>, <span style=\"color: #00af00; text-decoration-color: #00af00\">3</span>, <span style=\"color: #00af00; text-decoration-color: #00af00\">3</span>, <span style=\"color: #00af00; text-decoration-color: #00af00\">32</span>)       │             <span style=\"color: #00af00; text-decoration-color: #00af00\">0</span> │\n",
              "├─────────────────────────────────┼────────────────────────┼───────────────┤\n",
              "│ conv2d_3 (<span style=\"color: #0087ff; text-decoration-color: #0087ff\">Conv2D</span>)               │ (<span style=\"color: #00d7ff; text-decoration-color: #00d7ff\">None</span>, <span style=\"color: #00af00; text-decoration-color: #00af00\">3</span>, <span style=\"color: #00af00; text-decoration-color: #00af00\">3</span>, <span style=\"color: #00af00; text-decoration-color: #00af00\">64</span>)       │        <span style=\"color: #00af00; text-decoration-color: #00af00\">18,496</span> │\n",
              "├─────────────────────────────────┼────────────────────────┼───────────────┤\n",
              "│ max_pooling2d_3 (<span style=\"color: #0087ff; text-decoration-color: #0087ff\">MaxPooling2D</span>)  │ (<span style=\"color: #00d7ff; text-decoration-color: #00d7ff\">None</span>, <span style=\"color: #00af00; text-decoration-color: #00af00\">1</span>, <span style=\"color: #00af00; text-decoration-color: #00af00\">1</span>, <span style=\"color: #00af00; text-decoration-color: #00af00\">64</span>)       │             <span style=\"color: #00af00; text-decoration-color: #00af00\">0</span> │\n",
              "├─────────────────────────────────┼────────────────────────┼───────────────┤\n",
              "│ global_average_pooling2d_3      │ (<span style=\"color: #00d7ff; text-decoration-color: #00d7ff\">None</span>, <span style=\"color: #00af00; text-decoration-color: #00af00\">64</span>)             │             <span style=\"color: #00af00; text-decoration-color: #00af00\">0</span> │\n",
              "│ (<span style=\"color: #0087ff; text-decoration-color: #0087ff\">GlobalAveragePooling2D</span>)        │                        │               │\n",
              "├─────────────────────────────────┼────────────────────────┼───────────────┤\n",
              "│ dropout_5 (<span style=\"color: #0087ff; text-decoration-color: #0087ff\">Dropout</span>)             │ (<span style=\"color: #00d7ff; text-decoration-color: #00d7ff\">None</span>, <span style=\"color: #00af00; text-decoration-color: #00af00\">64</span>)             │             <span style=\"color: #00af00; text-decoration-color: #00af00\">0</span> │\n",
              "├─────────────────────────────────┼────────────────────────┼───────────────┤\n",
              "│ dense_6 (<span style=\"color: #0087ff; text-decoration-color: #0087ff\">Dense</span>)                 │ (<span style=\"color: #00d7ff; text-decoration-color: #00d7ff\">None</span>, <span style=\"color: #00af00; text-decoration-color: #00af00\">128</span>)            │         <span style=\"color: #00af00; text-decoration-color: #00af00\">8,320</span> │\n",
              "├─────────────────────────────────┼────────────────────────┼───────────────┤\n",
              "│ dense_7 (<span style=\"color: #0087ff; text-decoration-color: #0087ff\">Dense</span>)                 │ (<span style=\"color: #00d7ff; text-decoration-color: #00d7ff\">None</span>, <span style=\"color: #00af00; text-decoration-color: #00af00\">32</span>)             │         <span style=\"color: #00af00; text-decoration-color: #00af00\">4,128</span> │\n",
              "└─────────────────────────────────┴────────────────────────┴───────────────┘\n",
              "</pre>\n"
            ],
            "text/plain": [
              "┏━━━━━━━━━━━━━━━━━━━━━━━━━━━━━━━━━┳━━━━━━━━━━━━━━━━━━━━━━━━┳━━━━━━━━━━━━━━━┓\n",
              "┃\u001b[1m \u001b[0m\u001b[1mLayer (type)                   \u001b[0m\u001b[1m \u001b[0m┃\u001b[1m \u001b[0m\u001b[1mOutput Shape          \u001b[0m\u001b[1m \u001b[0m┃\u001b[1m \u001b[0m\u001b[1m      Param #\u001b[0m\u001b[1m \u001b[0m┃\n",
              "┡━━━━━━━━━━━━━━━━━━━━━━━━━━━━━━━━━╇━━━━━━━━━━━━━━━━━━━━━━━━╇━━━━━━━━━━━━━━━┩\n",
              "│ mobilenetv2_1.00_224            │ (\u001b[38;5;45mNone\u001b[0m, \u001b[38;5;34m7\u001b[0m, \u001b[38;5;34m7\u001b[0m, \u001b[38;5;34m1280\u001b[0m)     │     \u001b[38;5;34m2,257,984\u001b[0m │\n",
              "│ (\u001b[38;5;33mFunctional\u001b[0m)                    │                        │               │\n",
              "├─────────────────────────────────┼────────────────────────┼───────────────┤\n",
              "│ conv2d_2 (\u001b[38;5;33mConv2D\u001b[0m)               │ (\u001b[38;5;45mNone\u001b[0m, \u001b[38;5;34m7\u001b[0m, \u001b[38;5;34m7\u001b[0m, \u001b[38;5;34m32\u001b[0m)       │       \u001b[38;5;34m368,672\u001b[0m │\n",
              "├─────────────────────────────────┼────────────────────────┼───────────────┤\n",
              "│ max_pooling2d_2 (\u001b[38;5;33mMaxPooling2D\u001b[0m)  │ (\u001b[38;5;45mNone\u001b[0m, \u001b[38;5;34m3\u001b[0m, \u001b[38;5;34m3\u001b[0m, \u001b[38;5;34m32\u001b[0m)       │             \u001b[38;5;34m0\u001b[0m │\n",
              "├─────────────────────────────────┼────────────────────────┼───────────────┤\n",
              "│ conv2d_3 (\u001b[38;5;33mConv2D\u001b[0m)               │ (\u001b[38;5;45mNone\u001b[0m, \u001b[38;5;34m3\u001b[0m, \u001b[38;5;34m3\u001b[0m, \u001b[38;5;34m64\u001b[0m)       │        \u001b[38;5;34m18,496\u001b[0m │\n",
              "├─────────────────────────────────┼────────────────────────┼───────────────┤\n",
              "│ max_pooling2d_3 (\u001b[38;5;33mMaxPooling2D\u001b[0m)  │ (\u001b[38;5;45mNone\u001b[0m, \u001b[38;5;34m1\u001b[0m, \u001b[38;5;34m1\u001b[0m, \u001b[38;5;34m64\u001b[0m)       │             \u001b[38;5;34m0\u001b[0m │\n",
              "├─────────────────────────────────┼────────────────────────┼───────────────┤\n",
              "│ global_average_pooling2d_3      │ (\u001b[38;5;45mNone\u001b[0m, \u001b[38;5;34m64\u001b[0m)             │             \u001b[38;5;34m0\u001b[0m │\n",
              "│ (\u001b[38;5;33mGlobalAveragePooling2D\u001b[0m)        │                        │               │\n",
              "├─────────────────────────────────┼────────────────────────┼───────────────┤\n",
              "│ dropout_5 (\u001b[38;5;33mDropout\u001b[0m)             │ (\u001b[38;5;45mNone\u001b[0m, \u001b[38;5;34m64\u001b[0m)             │             \u001b[38;5;34m0\u001b[0m │\n",
              "├─────────────────────────────────┼────────────────────────┼───────────────┤\n",
              "│ dense_6 (\u001b[38;5;33mDense\u001b[0m)                 │ (\u001b[38;5;45mNone\u001b[0m, \u001b[38;5;34m128\u001b[0m)            │         \u001b[38;5;34m8,320\u001b[0m │\n",
              "├─────────────────────────────────┼────────────────────────┼───────────────┤\n",
              "│ dense_7 (\u001b[38;5;33mDense\u001b[0m)                 │ (\u001b[38;5;45mNone\u001b[0m, \u001b[38;5;34m32\u001b[0m)             │         \u001b[38;5;34m4,128\u001b[0m │\n",
              "└─────────────────────────────────┴────────────────────────┴───────────────┘\n"
            ]
          },
          "metadata": {},
          "output_type": "display_data"
        },
        {
          "data": {
            "text/html": [
              "<pre style=\"white-space:pre;overflow-x:auto;line-height:normal;font-family:Menlo,'DejaVu Sans Mono',consolas,'Courier New',monospace\"><span style=\"font-weight: bold\"> Total params: </span><span style=\"color: #00af00; text-decoration-color: #00af00\">2,657,600</span> (10.14 MB)\n",
              "</pre>\n"
            ],
            "text/plain": [
              "\u001b[1m Total params: \u001b[0m\u001b[38;5;34m2,657,600\u001b[0m (10.14 MB)\n"
            ]
          },
          "metadata": {},
          "output_type": "display_data"
        },
        {
          "data": {
            "text/html": [
              "<pre style=\"white-space:pre;overflow-x:auto;line-height:normal;font-family:Menlo,'DejaVu Sans Mono',consolas,'Courier New',monospace\"><span style=\"font-weight: bold\"> Trainable params: </span><span style=\"color: #00af00; text-decoration-color: #00af00\">399,616</span> (1.52 MB)\n",
              "</pre>\n"
            ],
            "text/plain": [
              "\u001b[1m Trainable params: \u001b[0m\u001b[38;5;34m399,616\u001b[0m (1.52 MB)\n"
            ]
          },
          "metadata": {},
          "output_type": "display_data"
        },
        {
          "data": {
            "text/html": [
              "<pre style=\"white-space:pre;overflow-x:auto;line-height:normal;font-family:Menlo,'DejaVu Sans Mono',consolas,'Courier New',monospace\"><span style=\"font-weight: bold\"> Non-trainable params: </span><span style=\"color: #00af00; text-decoration-color: #00af00\">2,257,984</span> (8.61 MB)\n",
              "</pre>\n"
            ],
            "text/plain": [
              "\u001b[1m Non-trainable params: \u001b[0m\u001b[38;5;34m2,257,984\u001b[0m (8.61 MB)\n"
            ]
          },
          "metadata": {},
          "output_type": "display_data"
        },
        {
          "name": "stdout",
          "output_type": "stream",
          "text": [
            "Epoch 1/20\n",
            "\u001b[1m272/272\u001b[0m \u001b[32m━━━━━━━━━━━━━━━━━━━━\u001b[0m\u001b[37m\u001b[0m \u001b[1m288s\u001b[0m 1s/step - accuracy: 0.3942 - loss: 2.2587 - val_accuracy: 0.6096 - val_loss: 1.4158 - learning_rate: 0.0010\n",
            "Epoch 2/20\n",
            "\u001b[1m272/272\u001b[0m \u001b[32m━━━━━━━━━━━━━━━━━━━━\u001b[0m\u001b[37m\u001b[0m \u001b[1m285s\u001b[0m 1s/step - accuracy: 0.6023 - loss: 1.4271 - val_accuracy: 0.7128 - val_loss: 1.0129 - learning_rate: 0.0010\n",
            "Epoch 3/20\n",
            "\u001b[1m272/272\u001b[0m \u001b[32m━━━━━━━━━━━━━━━━━━━━\u001b[0m\u001b[37m\u001b[0m \u001b[1m259s\u001b[0m 952ms/step - accuracy: 0.6660 - loss: 1.1701 - val_accuracy: 0.7410 - val_loss: 0.8959 - learning_rate: 0.0010\n",
            "Epoch 4/20\n",
            "\u001b[1m272/272\u001b[0m \u001b[32m━━━━━━━━━━━━━━━━━━━━\u001b[0m\u001b[37m\u001b[0m \u001b[1m172s\u001b[0m 632ms/step - accuracy: 0.6917 - loss: 1.0491 - val_accuracy: 0.7644 - val_loss: 0.8333 - learning_rate: 0.0010\n",
            "Epoch 5/20\n",
            "\u001b[1m272/272\u001b[0m \u001b[32m━━━━━━━━━━━━━━━━━━━━\u001b[0m\u001b[37m\u001b[0m \u001b[1m175s\u001b[0m 644ms/step - accuracy: 0.7185 - loss: 0.9404 - val_accuracy: 0.7628 - val_loss: 0.8072 - learning_rate: 0.0010\n",
            "Epoch 6/20\n",
            "\u001b[1m272/272\u001b[0m \u001b[32m━━━━━━━━━━━━━━━━━━━━\u001b[0m\u001b[37m\u001b[0m \u001b[1m173s\u001b[0m 636ms/step - accuracy: 0.7536 - loss: 0.8458 - val_accuracy: 0.7755 - val_loss: 0.8044 - learning_rate: 0.0010\n",
            "Epoch 7/20\n",
            "\u001b[1m272/272\u001b[0m \u001b[32m━━━━━━━━━━━━━━━━━━━━\u001b[0m\u001b[37m\u001b[0m \u001b[1m177s\u001b[0m 652ms/step - accuracy: 0.7465 - loss: 0.8294 - val_accuracy: 0.7926 - val_loss: 0.7111 - learning_rate: 0.0010\n",
            "Epoch 8/20\n",
            "\u001b[1m272/272\u001b[0m \u001b[32m━━━━━━━━━━━━━━━━━━━━\u001b[0m\u001b[37m\u001b[0m \u001b[1m178s\u001b[0m 653ms/step - accuracy: 0.7666 - loss: 0.7690 - val_accuracy: 0.8117 - val_loss: 0.6946 - learning_rate: 0.0010\n",
            "Epoch 9/20\n",
            "\u001b[1m272/272\u001b[0m \u001b[32m━━━━━━━━━━━━━━━━━━━━\u001b[0m\u001b[37m\u001b[0m \u001b[1m178s\u001b[0m 655ms/step - accuracy: 0.7883 - loss: 0.7146 - val_accuracy: 0.7979 - val_loss: 0.7160 - learning_rate: 0.0010\n",
            "Epoch 10/20\n",
            "\u001b[1m272/272\u001b[0m \u001b[32m━━━━━━━━━━━━━━━━━━━━\u001b[0m\u001b[37m\u001b[0m \u001b[1m175s\u001b[0m 642ms/step - accuracy: 0.7928 - loss: 0.7159 - val_accuracy: 0.8181 - val_loss: 0.6687 - learning_rate: 0.0010\n",
            "Epoch 11/20\n",
            "\u001b[1m272/272\u001b[0m \u001b[32m━━━━━━━━━━━━━━━━━━━━\u001b[0m\u001b[37m\u001b[0m \u001b[1m174s\u001b[0m 639ms/step - accuracy: 0.8019 - loss: 0.6818 - val_accuracy: 0.8069 - val_loss: 0.6853 - learning_rate: 0.0010\n",
            "Epoch 12/20\n",
            "\u001b[1m272/272\u001b[0m \u001b[32m━━━━━━━━━━━━━━━━━━━━\u001b[0m\u001b[37m\u001b[0m \u001b[1m131s\u001b[0m 482ms/step - accuracy: 0.8151 - loss: 0.6383 - val_accuracy: 0.8181 - val_loss: 0.6314 - learning_rate: 0.0010\n",
            "Epoch 13/20\n",
            "\u001b[1m272/272\u001b[0m \u001b[32m━━━━━━━━━━━━━━━━━━━━\u001b[0m\u001b[37m\u001b[0m \u001b[1m134s\u001b[0m 492ms/step - accuracy: 0.8143 - loss: 0.6242 - val_accuracy: 0.8176 - val_loss: 0.6418 - learning_rate: 0.0010\n",
            "Epoch 14/20\n",
            "\u001b[1m272/272\u001b[0m \u001b[32m━━━━━━━━━━━━━━━━━━━━\u001b[0m\u001b[37m\u001b[0m \u001b[1m135s\u001b[0m 498ms/step - accuracy: 0.8215 - loss: 0.5800 - val_accuracy: 0.8117 - val_loss: 0.6719 - learning_rate: 0.0010\n",
            "Epoch 15/20\n",
            "\u001b[1m272/272\u001b[0m \u001b[32m━━━━━━━━━━━━━━━━━━━━\u001b[0m\u001b[37m\u001b[0m \u001b[1m323s\u001b[0m 1s/step - accuracy: 0.8204 - loss: 0.6076 - val_accuracy: 0.8202 - val_loss: 0.6411 - learning_rate: 0.0010\n",
            "Epoch 16/20\n",
            "\u001b[1m272/272\u001b[0m \u001b[32m━━━━━━━━━━━━━━━━━━━━\u001b[0m\u001b[37m\u001b[0m \u001b[1m426s\u001b[0m 2s/step - accuracy: 0.8539 - loss: 0.4991 - val_accuracy: 0.8372 - val_loss: 0.5797 - learning_rate: 2.0000e-04\n",
            "Epoch 17/20\n",
            "\u001b[1m272/272\u001b[0m \u001b[32m━━━━━━━━━━━━━━━━━━━━\u001b[0m\u001b[37m\u001b[0m \u001b[1m411s\u001b[0m 2s/step - accuracy: 0.8628 - loss: 0.4478 - val_accuracy: 0.8367 - val_loss: 0.5775 - learning_rate: 2.0000e-04\n",
            "Epoch 18/20\n",
            "\u001b[1m272/272\u001b[0m \u001b[32m━━━━━━━━━━━━━━━━━━━━\u001b[0m\u001b[37m\u001b[0m \u001b[1m263s\u001b[0m 966ms/step - accuracy: 0.8651 - loss: 0.4391 - val_accuracy: 0.8319 - val_loss: 0.5902 - learning_rate: 2.0000e-04\n",
            "Epoch 19/20\n",
            "\u001b[1m272/272\u001b[0m \u001b[32m━━━━━━━━━━━━━━━━━━━━\u001b[0m\u001b[37m\u001b[0m \u001b[1m29206s\u001b[0m 108s/step - accuracy: 0.8575 - loss: 0.4607 - val_accuracy: 0.8303 - val_loss: 0.5840 - learning_rate: 2.0000e-04\n",
            "Epoch 20/20\n",
            "\u001b[1m272/272\u001b[0m \u001b[32m━━━━━━━━━━━━━━━━━━━━\u001b[0m\u001b[37m\u001b[0m \u001b[1m345s\u001b[0m 1s/step - accuracy: 0.8662 - loss: 0.4573 - val_accuracy: 0.8436 - val_loss: 0.5625 - learning_rate: 2.0000e-04\n"
          ]
        }
      ],
      "source": [
        "# 1. Load Pretrained MobileNetV2\n",
        "base_model = MobileNetV2(\n",
        "    input_shape=IMG_SIZE + (3,),\n",
        "    include_top=False,\n",
        "    weights='imagenet'\n",
        ")\n",
        "base_model.trainable = False\n",
        "\n",
        "# 2. Bangun model transfer learning kamu\n",
        "model = Sequential([\n",
        "    base_model,\n",
        "\n",
        "    layers.Conv2D(32, (3, 3), activation='relu', padding='same'),\n",
        "    layers.MaxPooling2D(pool_size=(2, 2)),\n",
        "\n",
        "    layers.Conv2D(64, (3, 3), activation='relu', padding='same'),\n",
        "    layers.MaxPooling2D(pool_size=(2, 2)),\n",
        "\n",
        "    layers.GlobalAveragePooling2D(),\n",
        "    layers.Dropout(0.5),\n",
        "    layers.Dense(128, activation='relu'),\n",
        "    layers.Dense(train_generator.num_classes, activation='softmax')  # jumlah kelas dari generator\n",
        "])\n",
        "\n",
        "# 3. Compile model\n",
        "model.compile(\n",
        "    optimizer='adam',\n",
        "    loss='categorical_crossentropy',\n",
        "    metrics=['accuracy']\n",
        ")\n",
        "\n",
        "model.summary()\n",
        "\n",
        "# 4. Early stopping\n",
        "early_stop = EarlyStopping(monitor='val_loss', patience=5, restore_best_weights=True)\n",
        "reduce_lr = ReduceLROnPlateau(patience=3, factor=0.2, monitor='val_loss')\n",
        "\n",
        "# 5. Fit model\n",
        "history = model.fit(\n",
        "    train_generator,\n",
        "    epochs=20,\n",
        "    validation_data=validation_generator,\n",
        "    callbacks=[early_stop, reduce_lr]\n",
        ")"
      ]
    },
    {
      "cell_type": "markdown",
      "metadata": {
        "id": "tapZhCVEI--r"
      },
      "source": [
        "## Evaluation"
      ]
    },
    {
      "cell_type": "code",
      "execution_count": null,
      "metadata": {
        "id": "gJiFhfCqI--s"
      },
      "outputs": [],
      "source": []
    },
    {
      "cell_type": "markdown",
      "metadata": {
        "id": "zp1OIrgcMqp9"
      },
      "source": [
        "## Inference"
      ]
    },
    {
      "cell_type": "code",
      "execution_count": null,
      "metadata": {
        "id": "8-5Ke8JEMtWz"
      },
      "outputs": [],
      "source": []
    }
  ],
  "metadata": {
    "colab": {
      "provenance": []
    },
    "kernelspec": {
      "display_name": "capstone",
      "language": "python",
      "name": "python3"
    },
    "language_info": {
      "codemirror_mode": {
        "name": "ipython",
        "version": 3
      },
      "file_extension": ".py",
      "mimetype": "text/x-python",
      "name": "python",
      "nbconvert_exporter": "python",
      "pygments_lexer": "ipython3",
      "version": "3.10.0"
    },
    "orig_nbformat": 4
  },
  "nbformat": 4,
  "nbformat_minor": 0
}
