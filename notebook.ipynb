{
  "cells": [
    {
      "cell_type": "markdown",
      "metadata": {
        "id": "r89PZWmXI--Z"
      },
      "source": [
        "# Capstone Project: selamat pagi anak-anakku"
      ]
    },
    {
      "cell_type": "markdown",
      "metadata": {
        "id": "jFZWTfsWI--i"
      },
      "source": [
        "- Amelia Yunisa\n",
        "- Mochamad Bayu Safutra\n",
        "- Rio Ferdinand\n",
        "- Rizka Salisa Puteri"
      ]
    },
    {
      "cell_type": "markdown",
      "metadata": {
        "id": "K8oVqHKGI--k"
      },
      "source": [
        "## Import Library"
      ]
    },
    {
      "cell_type": "code",
      "execution_count": 3,
      "metadata": {
        "id": "YHef2fjUI--m"
      },
      "outputs": [],
      "source": [
        "import os, glob, random, shutil\n",
        "import matplotlib.pyplot as plt\n",
        "import pandas as pd\n",
        "import numpy as np\n",
        "import tensorflow as tf\n",
        "from tensorflow.keras import layers, models\n",
        "from tensorflow.keras.models import load_model\n",
        "import tensorflow as tf\n",
        "# import tensorflowjs as tfjs\n",
        "from tensorflow.keras.preprocessing.image import ImageDataGenerator\n",
        "from tensorflow.keras.models import Sequential\n",
        "from tensorflow.keras.layers import GlobalAveragePooling2D, Dense, Dropout\n",
        "from tensorflow.keras.applications import MobileNetV2\n",
        "from tensorflow.keras.callbacks import EarlyStopping, ModelCheckpoint, ReduceLROnPlateau, Callback "
      ]
    },
    {
      "cell_type": "markdown",
      "metadata": {
        "id": "P8E4vbBvJv1E"
      },
      "source": [
        "## Load Dataset Resep"
      ]
    },
    {
      "cell_type": "code",
      "execution_count": 5,
      "metadata": {
        "id": "mV5eQLqCJ0Q8"
      },
      "outputs": [
        {
          "name": "stdout",
          "output_type": "stream",
          "text": [
            "              Nama                                          Deskripsi  \\\n",
            "0      Ayam Goreng  Ayam Goreng adalah hidangan tradisional Indone...   \n",
            "1        Ayama Pop  Ayam Pop adalah hidangan tradisional Indonesia...   \n",
            "2            Bakso  Bakso adalah hidangan tradisional Indonesia ya...   \n",
            "3  Dendeng Batokok  Dendeng merupakan daging kering yang diiris ti...   \n",
            "4             Gado  Gado-gado adalah hidangan tradisional Indonesi...   \n",
            "\n",
            "                                               Resep  \n",
            "0  Bahan-bahan:\\n1 kg Ayam, cuci bersih dan poton...  \n",
            "1  Bahan-bahan :\\n1 ekor ayam kampung (bisa pake ...  \n",
            "2  Bahan-bahan\\n250 gr Fillet ayam bagian paha (s...  \n",
            "3  Bahan-bahan:\\n1 kg daging sapi\\n1 ons Cabai me...  \n",
            "4  Bahan-bahan:\\n1 buah timun (iris tipis)\\n2 tan...  \n",
            "<class 'pandas.core.frame.DataFrame'>\n",
            "RangeIndex: 32 entries, 0 to 31\n",
            "Data columns (total 3 columns):\n",
            " #   Column     Non-Null Count  Dtype \n",
            "---  ------     --------------  ----- \n",
            " 0   Nama       32 non-null     object\n",
            " 1   Deskripsi  32 non-null     object\n",
            " 2   Resep      32 non-null     object\n",
            "dtypes: object(3)\n",
            "memory usage: 896.0+ bytes\n",
            "None\n",
            "Nama         0\n",
            "Deskripsi    0\n",
            "Resep        0\n",
            "dtype: int64\n",
            "0\n"
          ]
        }
      ],
      "source": [
        "df = pd.read_csv('dataset_resep.csv')\n",
        "\n",
        "print(df.head())\n",
        "\n",
        "print(df.info())\n",
        "\n",
        "# print(df.describe())\n",
        "\n",
        "print(df.isnull().sum())\n",
        "print(df.duplicated().sum())"
      ]
    },
    {
      "cell_type": "markdown",
      "metadata": {
        "id": "074HJZbPI--p"
      },
      "source": [
        "## Splitting Data"
      ]
    },
    {
      "cell_type": "code",
      "execution_count": 8,
      "metadata": {
        "id": "oL7SCrDHI--q"
      },
      "outputs": [
        {
          "name": "stdout",
          "output_type": "stream",
          "text": [
            "ayam_goreng: train=102, validation=22, test=23\n",
            "ayam_pop: train=147, validation=31, test=33\n",
            "bakso: train=1507, validation=323, test=324\n",
            "dendeng_batokok: train=145, validation=31, test=32\n",
            "gado: train=1501, validation=321, test=323\n",
            "grontol: train=210, validation=45, test=45\n",
            "gudeg: train=328, validation=70, test=71\n",
            "gulai_ikan: train=153, validation=32, test=34\n",
            "gulai_tambusu: train=126, validation=27, test=28\n",
            "gulai_tunjang: train=154, validation=33, test=34\n",
            "kue_ape: train=169, validation=36, test=37\n",
            "kue_bika_ambon: train=142, validation=30, test=32\n",
            "kue_cenil: train=142, validation=30, test=31\n",
            "kue_dadar_gulung: train=162, validation=34, test=36\n",
            "kue_gethuk_lindri: train=154, validation=33, test=33\n",
            "kue_kastengel: train=154, validation=33, test=33\n",
            "kue_klepon: train=168, validation=36, test=36\n",
            "kue_lapis: train=168, validation=36, test=37\n",
            "kue_lemper: train=202, validation=43, test=44\n",
            "kue_lumpur: train=173, validation=37, test=38\n",
            "kue_nagasari: train=161, validation=34, test=35\n",
            "kue_pastel: train=161, validation=34, test=36\n",
            "kue_putri_salju: train=156, validation=33, test=35\n",
            "kue_risoles: train=165, validation=35, test=36\n",
            "lanting: train=210, validation=45, test=45\n",
            "lumpia: train=210, validation=45, test=45\n",
            "putu ayu: train=210, validation=45, test=45\n",
            "rendang: train=1529, validation=327, test=329\n",
            "serabi solo: train=210, validation=45, test=45\n",
            "telur_balado: train=156, validation=33, test=35\n",
            "telur_dadar: train=109, validation=23, test=24\n",
            "wajik: train=210, validation=45, test=45\n"
          ]
        }
      ],
      "source": [
        "import os, glob, random, shutil\n",
        "\n",
        "src_root  = 'food'\n",
        "dst_root  = 'food_split'\n",
        "splits    = {'train': .7, 'validation': .15, 'test': .15}\n",
        "\n",
        "# 1) Ambil daftar kelas dari src_root/train\n",
        "classes = os.listdir(os.path.join(src_root, 'train'))\n",
        "\n",
        "# 2) Buat direktori tujuan per split & per kelas\n",
        "for split in splits:\n",
        "    for cls in classes:\n",
        "        os.makedirs(os.path.join(dst_root, split, cls), exist_ok=True)\n",
        "\n",
        "# 3) Gabungkan file per kelas dari train/validation/test\n",
        "for cls in classes:\n",
        "    all_files = []\n",
        "    for sub in ['train','validation','test']:\n",
        "        pattern = os.path.join(src_root, sub, cls, '*')\n",
        "        all_files += glob.glob(pattern)\n",
        "\n",
        "    random.seed(42)\n",
        "    random.shuffle(all_files)\n",
        "    n = len(all_files)\n",
        "    n_train = int(splits['train'] * n)\n",
        "    n_val   = int(splits['validation']   * n)\n",
        "\n",
        "    train_files = all_files[:n_train]\n",
        "    val_files   = all_files[n_train:n_train+n_val]\n",
        "    test_files  = all_files[n_train+n_val:]\n",
        "\n",
        "    # 4) Copy ke folder baru\n",
        "    for f in train_files:\n",
        "        shutil.copy(f, os.path.join(dst_root, 'train', cls))\n",
        "    for f in val_files:\n",
        "        shutil.copy(f, os.path.join(dst_root, 'validation', cls))\n",
        "    for f in test_files:\n",
        "        shutil.copy(f, os.path.join(dst_root, 'test', cls))\n",
        "\n",
        "    print(f\"{cls}: train={len(train_files)}, validation={len(val_files)}, test={len(test_files)}\")\n"
      ]
    },
    {
      "cell_type": "markdown",
      "metadata": {},
      "source": [
        "## Load Dataset"
      ]
    },
    {
      "cell_type": "code",
      "execution_count": 9,
      "metadata": {},
      "outputs": [],
      "source": [
        "# 1. Atur path dan parameter global\n",
        "base_dir   = os.getcwd()\n",
        "IMG_SIZE   = (224, 224)\n",
        "BATCH_SIZE = 32"
      ]
    },
    {
      "cell_type": "markdown",
      "metadata": {},
      "source": [
        "## Augmentasi Data"
      ]
    },
    {
      "cell_type": "code",
      "execution_count": 13,
      "metadata": {},
      "outputs": [
        {
          "name": "stdout",
          "output_type": "stream",
          "text": [
            "Found 9175 images belonging to 32 classes.\n",
            "Found 1982 images belonging to 32 classes.\n",
            "Found 1999 images belonging to 32 classes.\n"
          ]
        }
      ],
      "source": [
        "train_gen = ImageDataGenerator(\n",
        "    rescale=1./255,\n",
        "    rotation_range=10,         # Lebih kecil\n",
        "    zoom_range=0.1,\n",
        "    width_shift_range=0.05,\n",
        "    height_shift_range=0.05,\n",
        "    shear_range=0.05,\n",
        "    horizontal_flip=True,\n",
        "    fill_mode='nearest'\n",
        ")\n",
        "\n",
        "#    b) Hanya rescale untuk validation dan test\n",
        "val_test_gen = ImageDataGenerator(rescale=1./255)\n",
        "\n",
        "# 3. Buat generator\n",
        "train_generator = train_gen.flow_from_directory(\n",
        "    os.path.join(dst_root, 'train'),\n",
        "    target_size=IMG_SIZE,\n",
        "    batch_size=BATCH_SIZE,\n",
        "    class_mode='categorical', \n",
        "    shuffle=True\n",
        ")\n",
        "\n",
        "validation_generator = val_test_gen.flow_from_directory(\n",
        "    os.path.join(dst_root, 'validation'),\n",
        "    target_size=IMG_SIZE,\n",
        "    batch_size=BATCH_SIZE,\n",
        "    class_mode='categorical',\n",
        "    shuffle=False\n",
        ")\n",
        "\n",
        "test_generator = val_test_gen.flow_from_directory(\n",
        "    os.path.join(dst_root, 'test'),\n",
        "    target_size=IMG_SIZE,\n",
        "    batch_size=BATCH_SIZE,\n",
        "    class_mode='categorical',\n",
        "    shuffle=False\n",
        ")"
      ]
    },
    {
      "cell_type": "markdown",
      "metadata": {
        "id": "pzePdnTZI--q"
      },
      "source": [
        "## Modeling"
      ]
    },
    {
      "cell_type": "code",
      "execution_count": 14,
      "metadata": {
        "id": "k9AXHzPsI--r"
      },
      "outputs": [
        {
          "data": {
            "text/html": [
              "<pre style=\"white-space:pre;overflow-x:auto;line-height:normal;font-family:Menlo,'DejaVu Sans Mono',consolas,'Courier New',monospace\"><span style=\"font-weight: bold\">Model: \"sequential_2\"</span>\n",
              "</pre>\n"
            ],
            "text/plain": [
              "\u001b[1mModel: \"sequential_2\"\u001b[0m\n"
            ]
          },
          "metadata": {},
          "output_type": "display_data"
        },
        {
          "data": {
            "text/html": [
              "<pre style=\"white-space:pre;overflow-x:auto;line-height:normal;font-family:Menlo,'DejaVu Sans Mono',consolas,'Courier New',monospace\">┏━━━━━━━━━━━━━━━━━━━━━━━━━━━━━━━━━┳━━━━━━━━━━━━━━━━━━━━━━━━┳━━━━━━━━━━━━━━━┓\n",
              "┃<span style=\"font-weight: bold\"> Layer (type)                    </span>┃<span style=\"font-weight: bold\"> Output Shape           </span>┃<span style=\"font-weight: bold\">       Param # </span>┃\n",
              "┡━━━━━━━━━━━━━━━━━━━━━━━━━━━━━━━━━╇━━━━━━━━━━━━━━━━━━━━━━━━╇━━━━━━━━━━━━━━━┩\n",
              "│ mobilenetv2_1.00_224            │ (<span style=\"color: #00d7ff; text-decoration-color: #00d7ff\">None</span>, <span style=\"color: #00af00; text-decoration-color: #00af00\">7</span>, <span style=\"color: #00af00; text-decoration-color: #00af00\">7</span>, <span style=\"color: #00af00; text-decoration-color: #00af00\">1280</span>)     │     <span style=\"color: #00af00; text-decoration-color: #00af00\">2,257,984</span> │\n",
              "│ (<span style=\"color: #0087ff; text-decoration-color: #0087ff\">Functional</span>)                    │                        │               │\n",
              "├─────────────────────────────────┼────────────────────────┼───────────────┤\n",
              "│ conv2d_4 (<span style=\"color: #0087ff; text-decoration-color: #0087ff\">Conv2D</span>)               │ (<span style=\"color: #00d7ff; text-decoration-color: #00d7ff\">None</span>, <span style=\"color: #00af00; text-decoration-color: #00af00\">7</span>, <span style=\"color: #00af00; text-decoration-color: #00af00\">7</span>, <span style=\"color: #00af00; text-decoration-color: #00af00\">128</span>)      │     <span style=\"color: #00af00; text-decoration-color: #00af00\">1,474,688</span> │\n",
              "├─────────────────────────────────┼────────────────────────┼───────────────┤\n",
              "│ max_pooling2d_4 (<span style=\"color: #0087ff; text-decoration-color: #0087ff\">MaxPooling2D</span>)  │ (<span style=\"color: #00d7ff; text-decoration-color: #00d7ff\">None</span>, <span style=\"color: #00af00; text-decoration-color: #00af00\">3</span>, <span style=\"color: #00af00; text-decoration-color: #00af00\">3</span>, <span style=\"color: #00af00; text-decoration-color: #00af00\">128</span>)      │             <span style=\"color: #00af00; text-decoration-color: #00af00\">0</span> │\n",
              "├─────────────────────────────────┼────────────────────────┼───────────────┤\n",
              "│ conv2d_5 (<span style=\"color: #0087ff; text-decoration-color: #0087ff\">Conv2D</span>)               │ (<span style=\"color: #00d7ff; text-decoration-color: #00d7ff\">None</span>, <span style=\"color: #00af00; text-decoration-color: #00af00\">3</span>, <span style=\"color: #00af00; text-decoration-color: #00af00\">3</span>, <span style=\"color: #00af00; text-decoration-color: #00af00\">128</span>)      │       <span style=\"color: #00af00; text-decoration-color: #00af00\">147,584</span> │\n",
              "├─────────────────────────────────┼────────────────────────┼───────────────┤\n",
              "│ max_pooling2d_5 (<span style=\"color: #0087ff; text-decoration-color: #0087ff\">MaxPooling2D</span>)  │ (<span style=\"color: #00d7ff; text-decoration-color: #00d7ff\">None</span>, <span style=\"color: #00af00; text-decoration-color: #00af00\">1</span>, <span style=\"color: #00af00; text-decoration-color: #00af00\">1</span>, <span style=\"color: #00af00; text-decoration-color: #00af00\">128</span>)      │             <span style=\"color: #00af00; text-decoration-color: #00af00\">0</span> │\n",
              "├─────────────────────────────────┼────────────────────────┼───────────────┤\n",
              "│ global_average_pooling2d_2      │ (<span style=\"color: #00d7ff; text-decoration-color: #00d7ff\">None</span>, <span style=\"color: #00af00; text-decoration-color: #00af00\">128</span>)            │             <span style=\"color: #00af00; text-decoration-color: #00af00\">0</span> │\n",
              "│ (<span style=\"color: #0087ff; text-decoration-color: #0087ff\">GlobalAveragePooling2D</span>)        │                        │               │\n",
              "├─────────────────────────────────┼────────────────────────┼───────────────┤\n",
              "│ dropout_2 (<span style=\"color: #0087ff; text-decoration-color: #0087ff\">Dropout</span>)             │ (<span style=\"color: #00d7ff; text-decoration-color: #00d7ff\">None</span>, <span style=\"color: #00af00; text-decoration-color: #00af00\">128</span>)            │             <span style=\"color: #00af00; text-decoration-color: #00af00\">0</span> │\n",
              "├─────────────────────────────────┼────────────────────────┼───────────────┤\n",
              "│ dense_4 (<span style=\"color: #0087ff; text-decoration-color: #0087ff\">Dense</span>)                 │ (<span style=\"color: #00d7ff; text-decoration-color: #00d7ff\">None</span>, <span style=\"color: #00af00; text-decoration-color: #00af00\">128</span>)            │        <span style=\"color: #00af00; text-decoration-color: #00af00\">16,512</span> │\n",
              "├─────────────────────────────────┼────────────────────────┼───────────────┤\n",
              "│ dense_5 (<span style=\"color: #0087ff; text-decoration-color: #0087ff\">Dense</span>)                 │ (<span style=\"color: #00d7ff; text-decoration-color: #00d7ff\">None</span>, <span style=\"color: #00af00; text-decoration-color: #00af00\">32</span>)             │         <span style=\"color: #00af00; text-decoration-color: #00af00\">4,128</span> │\n",
              "└─────────────────────────────────┴────────────────────────┴───────────────┘\n",
              "</pre>\n"
            ],
            "text/plain": [
              "┏━━━━━━━━━━━━━━━━━━━━━━━━━━━━━━━━━┳━━━━━━━━━━━━━━━━━━━━━━━━┳━━━━━━━━━━━━━━━┓\n",
              "┃\u001b[1m \u001b[0m\u001b[1mLayer (type)                   \u001b[0m\u001b[1m \u001b[0m┃\u001b[1m \u001b[0m\u001b[1mOutput Shape          \u001b[0m\u001b[1m \u001b[0m┃\u001b[1m \u001b[0m\u001b[1m      Param #\u001b[0m\u001b[1m \u001b[0m┃\n",
              "┡━━━━━━━━━━━━━━━━━━━━━━━━━━━━━━━━━╇━━━━━━━━━━━━━━━━━━━━━━━━╇━━━━━━━━━━━━━━━┩\n",
              "│ mobilenetv2_1.00_224            │ (\u001b[38;5;45mNone\u001b[0m, \u001b[38;5;34m7\u001b[0m, \u001b[38;5;34m7\u001b[0m, \u001b[38;5;34m1280\u001b[0m)     │     \u001b[38;5;34m2,257,984\u001b[0m │\n",
              "│ (\u001b[38;5;33mFunctional\u001b[0m)                    │                        │               │\n",
              "├─────────────────────────────────┼────────────────────────┼───────────────┤\n",
              "│ conv2d_4 (\u001b[38;5;33mConv2D\u001b[0m)               │ (\u001b[38;5;45mNone\u001b[0m, \u001b[38;5;34m7\u001b[0m, \u001b[38;5;34m7\u001b[0m, \u001b[38;5;34m128\u001b[0m)      │     \u001b[38;5;34m1,474,688\u001b[0m │\n",
              "├─────────────────────────────────┼────────────────────────┼───────────────┤\n",
              "│ max_pooling2d_4 (\u001b[38;5;33mMaxPooling2D\u001b[0m)  │ (\u001b[38;5;45mNone\u001b[0m, \u001b[38;5;34m3\u001b[0m, \u001b[38;5;34m3\u001b[0m, \u001b[38;5;34m128\u001b[0m)      │             \u001b[38;5;34m0\u001b[0m │\n",
              "├─────────────────────────────────┼────────────────────────┼───────────────┤\n",
              "│ conv2d_5 (\u001b[38;5;33mConv2D\u001b[0m)               │ (\u001b[38;5;45mNone\u001b[0m, \u001b[38;5;34m3\u001b[0m, \u001b[38;5;34m3\u001b[0m, \u001b[38;5;34m128\u001b[0m)      │       \u001b[38;5;34m147,584\u001b[0m │\n",
              "├─────────────────────────────────┼────────────────────────┼───────────────┤\n",
              "│ max_pooling2d_5 (\u001b[38;5;33mMaxPooling2D\u001b[0m)  │ (\u001b[38;5;45mNone\u001b[0m, \u001b[38;5;34m1\u001b[0m, \u001b[38;5;34m1\u001b[0m, \u001b[38;5;34m128\u001b[0m)      │             \u001b[38;5;34m0\u001b[0m │\n",
              "├─────────────────────────────────┼────────────────────────┼───────────────┤\n",
              "│ global_average_pooling2d_2      │ (\u001b[38;5;45mNone\u001b[0m, \u001b[38;5;34m128\u001b[0m)            │             \u001b[38;5;34m0\u001b[0m │\n",
              "│ (\u001b[38;5;33mGlobalAveragePooling2D\u001b[0m)        │                        │               │\n",
              "├─────────────────────────────────┼────────────────────────┼───────────────┤\n",
              "│ dropout_2 (\u001b[38;5;33mDropout\u001b[0m)             │ (\u001b[38;5;45mNone\u001b[0m, \u001b[38;5;34m128\u001b[0m)            │             \u001b[38;5;34m0\u001b[0m │\n",
              "├─────────────────────────────────┼────────────────────────┼───────────────┤\n",
              "│ dense_4 (\u001b[38;5;33mDense\u001b[0m)                 │ (\u001b[38;5;45mNone\u001b[0m, \u001b[38;5;34m128\u001b[0m)            │        \u001b[38;5;34m16,512\u001b[0m │\n",
              "├─────────────────────────────────┼────────────────────────┼───────────────┤\n",
              "│ dense_5 (\u001b[38;5;33mDense\u001b[0m)                 │ (\u001b[38;5;45mNone\u001b[0m, \u001b[38;5;34m32\u001b[0m)             │         \u001b[38;5;34m4,128\u001b[0m │\n",
              "└─────────────────────────────────┴────────────────────────┴───────────────┘\n"
            ]
          },
          "metadata": {},
          "output_type": "display_data"
        },
        {
          "data": {
            "text/html": [
              "<pre style=\"white-space:pre;overflow-x:auto;line-height:normal;font-family:Menlo,'DejaVu Sans Mono',consolas,'Courier New',monospace\"><span style=\"font-weight: bold\"> Total params: </span><span style=\"color: #00af00; text-decoration-color: #00af00\">3,900,896</span> (14.88 MB)\n",
              "</pre>\n"
            ],
            "text/plain": [
              "\u001b[1m Total params: \u001b[0m\u001b[38;5;34m3,900,896\u001b[0m (14.88 MB)\n"
            ]
          },
          "metadata": {},
          "output_type": "display_data"
        },
        {
          "data": {
            "text/html": [
              "<pre style=\"white-space:pre;overflow-x:auto;line-height:normal;font-family:Menlo,'DejaVu Sans Mono',consolas,'Courier New',monospace\"><span style=\"font-weight: bold\"> Trainable params: </span><span style=\"color: #00af00; text-decoration-color: #00af00\">1,642,912</span> (6.27 MB)\n",
              "</pre>\n"
            ],
            "text/plain": [
              "\u001b[1m Trainable params: \u001b[0m\u001b[38;5;34m1,642,912\u001b[0m (6.27 MB)\n"
            ]
          },
          "metadata": {},
          "output_type": "display_data"
        },
        {
          "data": {
            "text/html": [
              "<pre style=\"white-space:pre;overflow-x:auto;line-height:normal;font-family:Menlo,'DejaVu Sans Mono',consolas,'Courier New',monospace\"><span style=\"font-weight: bold\"> Non-trainable params: </span><span style=\"color: #00af00; text-decoration-color: #00af00\">2,257,984</span> (8.61 MB)\n",
              "</pre>\n"
            ],
            "text/plain": [
              "\u001b[1m Non-trainable params: \u001b[0m\u001b[38;5;34m2,257,984\u001b[0m (8.61 MB)\n"
            ]
          },
          "metadata": {},
          "output_type": "display_data"
        },
        {
          "name": "stdout",
          "output_type": "stream",
          "text": [
            "Epoch 1/20\n",
            "\u001b[1m287/287\u001b[0m \u001b[32m━━━━━━━━━━━━━━━━━━━━\u001b[0m\u001b[37m\u001b[0m \u001b[1m200s\u001b[0m 686ms/step - accuracy: 0.4322 - loss: 2.2183 - val_accuracy: 0.7225 - val_loss: 0.9876 - learning_rate: 0.0010\n",
            "Epoch 2/20\n",
            "\u001b[1m287/287\u001b[0m \u001b[32m━━━━━━━━━━━━━━━━━━━━\u001b[0m\u001b[37m\u001b[0m \u001b[1m185s\u001b[0m 643ms/step - accuracy: 0.7181 - loss: 0.9905 - val_accuracy: 0.7815 - val_loss: 0.7656 - learning_rate: 0.0010\n",
            "Epoch 3/20\n",
            "\u001b[1m287/287\u001b[0m \u001b[32m━━━━━━━━━━━━━━━━━━━━\u001b[0m\u001b[37m\u001b[0m \u001b[1m139s\u001b[0m 484ms/step - accuracy: 0.7905 - loss: 0.7235 - val_accuracy: 0.8073 - val_loss: 0.7028 - learning_rate: 0.0010\n",
            "Epoch 4/20\n",
            "\u001b[1m287/287\u001b[0m \u001b[32m━━━━━━━━━━━━━━━━━━━━\u001b[0m\u001b[37m\u001b[0m \u001b[1m124s\u001b[0m 433ms/step - accuracy: 0.8289 - loss: 0.5977 - val_accuracy: 0.8355 - val_loss: 0.6343 - learning_rate: 0.0010\n",
            "Epoch 5/20\n",
            "\u001b[1m287/287\u001b[0m \u001b[32m━━━━━━━━━━━━━━━━━━━━\u001b[0m\u001b[37m\u001b[0m \u001b[1m133s\u001b[0m 464ms/step - accuracy: 0.8554 - loss: 0.5140 - val_accuracy: 0.8385 - val_loss: 0.6074 - learning_rate: 0.0010\n",
            "Epoch 6/20\n",
            "\u001b[1m287/287\u001b[0m \u001b[32m━━━━━━━━━━━━━━━━━━━━\u001b[0m\u001b[37m\u001b[0m \u001b[1m126s\u001b[0m 440ms/step - accuracy: 0.8657 - loss: 0.4814 - val_accuracy: 0.8179 - val_loss: 0.7392 - learning_rate: 0.0010\n",
            "Epoch 7/20\n",
            "\u001b[1m287/287\u001b[0m \u001b[32m━━━━━━━━━━━━━━━━━━━━\u001b[0m\u001b[37m\u001b[0m \u001b[1m126s\u001b[0m 439ms/step - accuracy: 0.8721 - loss: 0.4355 - val_accuracy: 0.8547 - val_loss: 0.5682 - learning_rate: 0.0010\n",
            "Epoch 8/20\n",
            "\u001b[1m287/287\u001b[0m \u001b[32m━━━━━━━━━━━━━━━━━━━━\u001b[0m\u001b[37m\u001b[0m \u001b[1m126s\u001b[0m 440ms/step - accuracy: 0.8878 - loss: 0.3842 - val_accuracy: 0.8618 - val_loss: 0.5714 - learning_rate: 0.0010\n",
            "Epoch 9/20\n",
            "\u001b[1m287/287\u001b[0m \u001b[32m━━━━━━━━━━━━━━━━━━━━\u001b[0m\u001b[37m\u001b[0m \u001b[1m127s\u001b[0m 441ms/step - accuracy: 0.8975 - loss: 0.3786 - val_accuracy: 0.8431 - val_loss: 0.6459 - learning_rate: 0.0010\n",
            "Epoch 10/20\n",
            "\u001b[1m287/287\u001b[0m \u001b[32m━━━━━━━━━━━━━━━━━━━━\u001b[0m\u001b[37m\u001b[0m \u001b[1m136s\u001b[0m 473ms/step - accuracy: 0.9055 - loss: 0.3266 - val_accuracy: 0.8466 - val_loss: 0.6594 - learning_rate: 0.0010\n",
            "Epoch 11/20\n",
            "\u001b[1m287/287\u001b[0m \u001b[32m━━━━━━━━━━━━━━━━━━━━\u001b[0m\u001b[37m\u001b[0m \u001b[1m126s\u001b[0m 440ms/step - accuracy: 0.9254 - loss: 0.2640 - val_accuracy: 0.8713 - val_loss: 0.5156 - learning_rate: 2.0000e-04\n",
            "Epoch 12/20\n",
            "\u001b[1m287/287\u001b[0m \u001b[32m━━━━━━━━━━━━━━━━━━━━\u001b[0m\u001b[37m\u001b[0m \u001b[1m129s\u001b[0m 448ms/step - accuracy: 0.9453 - loss: 0.1966 - val_accuracy: 0.8673 - val_loss: 0.5391 - learning_rate: 2.0000e-04\n",
            "Epoch 13/20\n",
            "\u001b[1m287/287\u001b[0m \u001b[32m━━━━━━━━━━━━━━━━━━━━\u001b[0m\u001b[37m\u001b[0m \u001b[1m131s\u001b[0m 457ms/step - accuracy: 0.9432 - loss: 0.1833 - val_accuracy: 0.8744 - val_loss: 0.5146 - learning_rate: 2.0000e-04\n",
            "Epoch 14/20\n",
            "\u001b[1m287/287\u001b[0m \u001b[32m━━━━━━━━━━━━━━━━━━━━\u001b[0m\u001b[37m\u001b[0m \u001b[1m132s\u001b[0m 458ms/step - accuracy: 0.9532 - loss: 0.1678 - val_accuracy: 0.8648 - val_loss: 0.5493 - learning_rate: 2.0000e-04\n",
            "Epoch 15/20\n",
            "\u001b[1m287/287\u001b[0m \u001b[32m━━━━━━━━━━━━━━━━━━━━\u001b[0m\u001b[37m\u001b[0m \u001b[1m129s\u001b[0m 448ms/step - accuracy: 0.9507 - loss: 0.1548 - val_accuracy: 0.8749 - val_loss: 0.5433 - learning_rate: 2.0000e-04\n",
            "Epoch 16/20\n",
            "\u001b[1m287/287\u001b[0m \u001b[32m━━━━━━━━━━━━━━━━━━━━\u001b[0m\u001b[37m\u001b[0m \u001b[1m128s\u001b[0m 445ms/step - accuracy: 0.9559 - loss: 0.1482 - val_accuracy: 0.8774 - val_loss: 0.5306 - learning_rate: 2.0000e-04\n",
            "Epoch 17/20\n",
            "\u001b[1m287/287\u001b[0m \u001b[32m━━━━━━━━━━━━━━━━━━━━\u001b[0m\u001b[37m\u001b[0m \u001b[1m130s\u001b[0m 452ms/step - accuracy: 0.9609 - loss: 0.1235 - val_accuracy: 0.8789 - val_loss: 0.5342 - learning_rate: 4.0000e-05\n",
            "Epoch 18/20\n",
            "\u001b[1m287/287\u001b[0m \u001b[32m━━━━━━━━━━━━━━━━━━━━\u001b[0m\u001b[37m\u001b[0m \u001b[1m127s\u001b[0m 441ms/step - accuracy: 0.9677 - loss: 0.1165 - val_accuracy: 0.8774 - val_loss: 0.5409 - learning_rate: 4.0000e-05\n"
          ]
        }
      ],
      "source": [
        "# 1. Load Pretrained MobileNetV2\n",
        "base_model = MobileNetV2(\n",
        "    input_shape=IMG_SIZE + (3,),\n",
        "    include_top=False,\n",
        "    weights='imagenet'\n",
        ")\n",
        "base_model.trainable = False\n",
        "\n",
        "# 2. Bangun model transfer learning kamu\n",
        "model = Sequential([\n",
        "    base_model,\n",
        "\n",
        "    layers.Conv2D(128, (3, 3), activation='relu', padding='same'),\n",
        "    layers.MaxPooling2D(pool_size=(2, 2)),\n",
        "\n",
        "    layers.Conv2D(128, (3, 3), activation='relu', padding='same'),\n",
        "    layers.MaxPooling2D(pool_size=(2, 2)),\n",
        "\n",
        "    layers.GlobalAveragePooling2D(),\n",
        "    layers.Dropout(0.5),\n",
        "    layers.Dense(128, activation='relu'),\n",
        "    layers.Dense(train_generator.num_classes, activation='softmax')  # jumlah kelas dari generator\n",
        "])\n",
        "\n",
        "# 3. Compile model\n",
        "model.compile(\n",
        "    optimizer='adam',\n",
        "    loss='categorical_crossentropy',\n",
        "    metrics=['accuracy']\n",
        ")\n",
        "\n",
        "model.summary()\n",
        "\n",
        "# 4. Early stopping\n",
        "early_stop = EarlyStopping(monitor='val_loss', patience=5, restore_best_weights=True)\n",
        "reduce_lr = ReduceLROnPlateau(patience=3, factor=0.2, monitor='val_loss')\n",
        "\n",
        "# 5. Fit model\n",
        "history = model.fit(\n",
        "    train_generator,\n",
        "    epochs=20,\n",
        "    validation_data=validation_generator,\n",
        "    callbacks=[early_stop, reduce_lr]\n",
        ")"
      ]
    },
    {
      "cell_type": "code",
      "execution_count": 18,
      "metadata": {},
      "outputs": [
        {
          "name": "stdout",
          "output_type": "stream",
          "text": [
            "INFO:tensorflow:Assets written to: c:\\Users\\Ferdinand\\Downloads\\Capstone\\saved_model_tl\\assets\n"
          ]
        },
        {
          "name": "stderr",
          "output_type": "stream",
          "text": [
            "INFO:tensorflow:Assets written to: c:\\Users\\Ferdinand\\Downloads\\Capstone\\saved_model_tl\\assets\n"
          ]
        },
        {
          "name": "stdout",
          "output_type": "stream",
          "text": [
            "Saved artifact at 'c:\\Users\\Ferdinand\\Downloads\\Capstone\\saved_model_tl'. The following endpoints are available:\n",
            "\n",
            "* Endpoint 'serve'\n",
            "  args_0 (POSITIONAL_ONLY): TensorSpec(shape=(None, 224, 224, 3), dtype=tf.float32, name='keras_tensor_482')\n",
            "Output Type:\n",
            "  TensorSpec(shape=(None, 32), dtype=tf.float32, name=None)\n",
            "Captures:\n",
            "  2825789676656: TensorSpec(shape=(), dtype=tf.resource, name=None)\n",
            "  2824281103472: TensorSpec(shape=(), dtype=tf.resource, name=None)\n",
            "  2825848952384: TensorSpec(shape=(), dtype=tf.resource, name=None)\n",
            "  2824281105232: TensorSpec(shape=(), dtype=tf.resource, name=None)\n",
            "  2824281108224: TensorSpec(shape=(), dtype=tf.resource, name=None)\n",
            "  2824281111392: TensorSpec(shape=(), dtype=tf.resource, name=None)\n",
            "  2824288226640: TensorSpec(shape=(), dtype=tf.resource, name=None)\n",
            "  2824288225056: TensorSpec(shape=(), dtype=tf.resource, name=None)\n",
            "  2824288226464: TensorSpec(shape=(), dtype=tf.resource, name=None)\n",
            "  2824288224880: TensorSpec(shape=(), dtype=tf.resource, name=None)\n",
            "  2824288233504: TensorSpec(shape=(), dtype=tf.resource, name=None)\n",
            "  2824288231920: TensorSpec(shape=(), dtype=tf.resource, name=None)\n",
            "  2824288235088: TensorSpec(shape=(), dtype=tf.resource, name=None)\n",
            "  2824288230688: TensorSpec(shape=(), dtype=tf.resource, name=None)\n",
            "  2824288233328: TensorSpec(shape=(), dtype=tf.resource, name=None)\n",
            "  2824288236848: TensorSpec(shape=(), dtype=tf.resource, name=None)\n",
            "  2824282769008: TensorSpec(shape=(), dtype=tf.resource, name=None)\n",
            "  2824282767600: TensorSpec(shape=(), dtype=tf.resource, name=None)\n",
            "  2824288238960: TensorSpec(shape=(), dtype=tf.resource, name=None)\n",
            "  2824282768480: TensorSpec(shape=(), dtype=tf.resource, name=None)\n",
            "  2824288238784: TensorSpec(shape=(), dtype=tf.resource, name=None)\n",
            "  2824282775696: TensorSpec(shape=(), dtype=tf.resource, name=None)\n",
            "  2824282779040: TensorSpec(shape=(), dtype=tf.resource, name=None)\n",
            "  2824282774464: TensorSpec(shape=(), dtype=tf.resource, name=None)\n",
            "  2824282777104: TensorSpec(shape=(), dtype=tf.resource, name=None)\n",
            "  2824282782208: TensorSpec(shape=(), dtype=tf.resource, name=None)\n",
            "  2824282852160: TensorSpec(shape=(), dtype=tf.resource, name=None)\n",
            "  2824282851632: TensorSpec(shape=(), dtype=tf.resource, name=None)\n",
            "  2824282851808: TensorSpec(shape=(), dtype=tf.resource, name=None)\n",
            "  2824282851280: TensorSpec(shape=(), dtype=tf.resource, name=None)\n",
            "  2824282857616: TensorSpec(shape=(), dtype=tf.resource, name=None)\n",
            "  2824282856032: TensorSpec(shape=(), dtype=tf.resource, name=None)\n",
            "  2824282859200: TensorSpec(shape=(), dtype=tf.resource, name=None)\n",
            "  2824282854800: TensorSpec(shape=(), dtype=tf.resource, name=None)\n",
            "  2824282857440: TensorSpec(shape=(), dtype=tf.resource, name=None)\n",
            "  2824282865360: TensorSpec(shape=(), dtype=tf.resource, name=None)\n",
            "  2824282863072: TensorSpec(shape=(), dtype=tf.resource, name=None)\n",
            "  2824282864304: TensorSpec(shape=(), dtype=tf.resource, name=None)\n",
            "  2824282864480: TensorSpec(shape=(), dtype=tf.resource, name=None)\n",
            "  2824282899200: TensorSpec(shape=(), dtype=tf.resource, name=None)\n",
            "  2824282906416: TensorSpec(shape=(), dtype=tf.resource, name=None)\n",
            "  2824282904832: TensorSpec(shape=(), dtype=tf.resource, name=None)\n",
            "  2824282908000: TensorSpec(shape=(), dtype=tf.resource, name=None)\n",
            "  2824282903600: TensorSpec(shape=(), dtype=tf.resource, name=None)\n",
            "  2824282906240: TensorSpec(shape=(), dtype=tf.resource, name=None)\n",
            "  2824282914512: TensorSpec(shape=(), dtype=tf.resource, name=None)\n",
            "  2824282912048: TensorSpec(shape=(), dtype=tf.resource, name=None)\n",
            "  2824282913632: TensorSpec(shape=(), dtype=tf.resource, name=None)\n",
            "  2824282913808: TensorSpec(shape=(), dtype=tf.resource, name=None)\n",
            "  2824282996976: TensorSpec(shape=(), dtype=tf.resource, name=None)\n",
            "  2824282912928: TensorSpec(shape=(), dtype=tf.resource, name=None)\n",
            "  2824283004368: TensorSpec(shape=(), dtype=tf.resource, name=None)\n",
            "  2824283007712: TensorSpec(shape=(), dtype=tf.resource, name=None)\n",
            "  2824283003136: TensorSpec(shape=(), dtype=tf.resource, name=None)\n",
            "  2824283005776: TensorSpec(shape=(), dtype=tf.resource, name=None)\n",
            "  2824283010880: TensorSpec(shape=(), dtype=tf.resource, name=None)\n",
            "  2824283080832: TensorSpec(shape=(), dtype=tf.resource, name=None)\n",
            "  2824283078720: TensorSpec(shape=(), dtype=tf.resource, name=None)\n",
            "  2824283012816: TensorSpec(shape=(), dtype=tf.resource, name=None)\n",
            "  2824283080304: TensorSpec(shape=(), dtype=tf.resource, name=None)\n",
            "  2824283086288: TensorSpec(shape=(), dtype=tf.resource, name=None)\n",
            "  2824283084704: TensorSpec(shape=(), dtype=tf.resource, name=None)\n",
            "  2824283087872: TensorSpec(shape=(), dtype=tf.resource, name=None)\n",
            "  2824283083472: TensorSpec(shape=(), dtype=tf.resource, name=None)\n",
            "  2824283086112: TensorSpec(shape=(), dtype=tf.resource, name=None)\n",
            "  2824283094032: TensorSpec(shape=(), dtype=tf.resource, name=None)\n",
            "  2824283085408: TensorSpec(shape=(), dtype=tf.resource, name=None)\n",
            "  2824283092272: TensorSpec(shape=(), dtype=tf.resource, name=None)\n",
            "  2824283093328: TensorSpec(shape=(), dtype=tf.resource, name=None)\n",
            "  2824283090160: TensorSpec(shape=(), dtype=tf.resource, name=None)\n",
            "  2824283200624: TensorSpec(shape=(), dtype=tf.resource, name=None)\n",
            "  2824283199040: TensorSpec(shape=(), dtype=tf.resource, name=None)\n",
            "  2824283202208: TensorSpec(shape=(), dtype=tf.resource, name=None)\n",
            "  2824283197808: TensorSpec(shape=(), dtype=tf.resource, name=None)\n",
            "  2824283200448: TensorSpec(shape=(), dtype=tf.resource, name=None)\n",
            "  2824283208720: TensorSpec(shape=(), dtype=tf.resource, name=None)\n",
            "  2824283205728: TensorSpec(shape=(), dtype=tf.resource, name=None)\n",
            "  2824283205024: TensorSpec(shape=(), dtype=tf.resource, name=None)\n",
            "  2824283206608: TensorSpec(shape=(), dtype=tf.resource, name=None)\n",
            "  2824283207488: TensorSpec(shape=(), dtype=tf.resource, name=None)\n",
            "  2824283207664: TensorSpec(shape=(), dtype=tf.resource, name=None)\n",
            "  2824283280608: TensorSpec(shape=(), dtype=tf.resource, name=None)\n",
            "  2824283283952: TensorSpec(shape=(), dtype=tf.resource, name=None)\n",
            "  2824283279376: TensorSpec(shape=(), dtype=tf.resource, name=None)\n",
            "  2824283282016: TensorSpec(shape=(), dtype=tf.resource, name=None)\n",
            "  2824283290288: TensorSpec(shape=(), dtype=tf.resource, name=None)\n",
            "  2824283288704: TensorSpec(shape=(), dtype=tf.resource, name=None)\n",
            "  2824283286592: TensorSpec(shape=(), dtype=tf.resource, name=None)\n",
            "  2824283287472: TensorSpec(shape=(), dtype=tf.resource, name=None)\n",
            "  2824283290112: TensorSpec(shape=(), dtype=tf.resource, name=None)\n",
            "  2824283347728: TensorSpec(shape=(), dtype=tf.resource, name=None)\n",
            "  2824283346144: TensorSpec(shape=(), dtype=tf.resource, name=None)\n",
            "  2824283349312: TensorSpec(shape=(), dtype=tf.resource, name=None)\n",
            "  2824283344912: TensorSpec(shape=(), dtype=tf.resource, name=None)\n",
            "  2824283347552: TensorSpec(shape=(), dtype=tf.resource, name=None)\n",
            "  2824283353888: TensorSpec(shape=(), dtype=tf.resource, name=None)\n",
            "  2824283354240: TensorSpec(shape=(), dtype=tf.resource, name=None)\n",
            "  2824283355472: TensorSpec(shape=(), dtype=tf.resource, name=None)\n",
            "  2824283356000: TensorSpec(shape=(), dtype=tf.resource, name=None)\n",
            "  2824283423840: TensorSpec(shape=(), dtype=tf.resource, name=None)\n",
            "  2824283430880: TensorSpec(shape=(), dtype=tf.resource, name=None)\n",
            "  2824283429296: TensorSpec(shape=(), dtype=tf.resource, name=None)\n",
            "  2824283432464: TensorSpec(shape=(), dtype=tf.resource, name=None)\n",
            "  2824283428064: TensorSpec(shape=(), dtype=tf.resource, name=None)\n",
            "  2824283430704: TensorSpec(shape=(), dtype=tf.resource, name=None)\n",
            "  2824283437392: TensorSpec(shape=(), dtype=tf.resource, name=None)\n",
            "  2824283435808: TensorSpec(shape=(), dtype=tf.resource, name=None)\n",
            "  2824283433696: TensorSpec(shape=(), dtype=tf.resource, name=None)\n",
            "  2824283434576: TensorSpec(shape=(), dtype=tf.resource, name=None)\n",
            "  2824283437216: TensorSpec(shape=(), dtype=tf.resource, name=None)\n",
            "  2824283436512: TensorSpec(shape=(), dtype=tf.resource, name=None)\n",
            "  2824283574816: TensorSpec(shape=(), dtype=tf.resource, name=None)\n",
            "  2824283578160: TensorSpec(shape=(), dtype=tf.resource, name=None)\n",
            "  2824283573584: TensorSpec(shape=(), dtype=tf.resource, name=None)\n",
            "  2824283576224: TensorSpec(shape=(), dtype=tf.resource, name=None)\n",
            "  2824283584496: TensorSpec(shape=(), dtype=tf.resource, name=None)\n",
            "  2824283582912: TensorSpec(shape=(), dtype=tf.resource, name=None)\n",
            "  2824283586080: TensorSpec(shape=(), dtype=tf.resource, name=None)\n",
            "  2824283581680: TensorSpec(shape=(), dtype=tf.resource, name=None)\n",
            "  2824283584320: TensorSpec(shape=(), dtype=tf.resource, name=None)\n",
            "  2824283575520: TensorSpec(shape=(), dtype=tf.resource, name=None)\n",
            "  2824283623968: TensorSpec(shape=(), dtype=tf.resource, name=None)\n",
            "  2824283627136: TensorSpec(shape=(), dtype=tf.resource, name=None)\n",
            "  2824283622736: TensorSpec(shape=(), dtype=tf.resource, name=None)\n",
            "  2824283625376: TensorSpec(shape=(), dtype=tf.resource, name=None)\n",
            "  2824283633296: TensorSpec(shape=(), dtype=tf.resource, name=None)\n",
            "  2824283631712: TensorSpec(shape=(), dtype=tf.resource, name=None)\n",
            "  2824283635056: TensorSpec(shape=(), dtype=tf.resource, name=None)\n",
            "  2824283630480: TensorSpec(shape=(), dtype=tf.resource, name=None)\n",
            "  2824283633120: TensorSpec(shape=(), dtype=tf.resource, name=None)\n",
            "  2824283629952: TensorSpec(shape=(), dtype=tf.resource, name=None)\n",
            "  2824283738304: TensorSpec(shape=(), dtype=tf.resource, name=None)\n",
            "  2824283741472: TensorSpec(shape=(), dtype=tf.resource, name=None)\n",
            "  2824283737072: TensorSpec(shape=(), dtype=tf.resource, name=None)\n",
            "  2824283739712: TensorSpec(shape=(), dtype=tf.resource, name=None)\n",
            "  2824283747984: TensorSpec(shape=(), dtype=tf.resource, name=None)\n",
            "  2824283746400: TensorSpec(shape=(), dtype=tf.resource, name=None)\n",
            "  2824283749568: TensorSpec(shape=(), dtype=tf.resource, name=None)\n",
            "  2824283745168: TensorSpec(shape=(), dtype=tf.resource, name=None)\n",
            "  2824283747808: TensorSpec(shape=(), dtype=tf.resource, name=None)\n",
            "  2824283747104: TensorSpec(shape=(), dtype=tf.resource, name=None)\n",
            "  2824286326624: TensorSpec(shape=(), dtype=tf.resource, name=None)\n",
            "  2824286329968: TensorSpec(shape=(), dtype=tf.resource, name=None)\n",
            "  2824286325392: TensorSpec(shape=(), dtype=tf.resource, name=None)\n",
            "  2824286328032: TensorSpec(shape=(), dtype=tf.resource, name=None)\n",
            "  2824286336304: TensorSpec(shape=(), dtype=tf.resource, name=None)\n",
            "  2824286334720: TensorSpec(shape=(), dtype=tf.resource, name=None)\n",
            "  2824286337888: TensorSpec(shape=(), dtype=tf.resource, name=None)\n",
            "  2824286333488: TensorSpec(shape=(), dtype=tf.resource, name=None)\n",
            "  2824286336128: TensorSpec(shape=(), dtype=tf.resource, name=None)\n",
            "  2824286327328: TensorSpec(shape=(), dtype=tf.resource, name=None)\n",
            "  2824286392160: TensorSpec(shape=(), dtype=tf.resource, name=None)\n",
            "  2824286395328: TensorSpec(shape=(), dtype=tf.resource, name=None)\n",
            "  2824286390928: TensorSpec(shape=(), dtype=tf.resource, name=None)\n",
            "  2824286393568: TensorSpec(shape=(), dtype=tf.resource, name=None)\n",
            "  2824286401488: TensorSpec(shape=(), dtype=tf.resource, name=None)\n",
            "  2824286399904: TensorSpec(shape=(), dtype=tf.resource, name=None)\n",
            "  2824286403248: TensorSpec(shape=(), dtype=tf.resource, name=None)\n",
            "  2824286398672: TensorSpec(shape=(), dtype=tf.resource, name=None)\n",
            "  2824286401312: TensorSpec(shape=(), dtype=tf.resource, name=None)\n",
            "  2824286398144: TensorSpec(shape=(), dtype=tf.resource, name=None)\n",
            "  2824286522880: TensorSpec(shape=(), dtype=tf.resource, name=None)\n",
            "  2824286526048: TensorSpec(shape=(), dtype=tf.resource, name=None)\n",
            "  2824286521648: TensorSpec(shape=(), dtype=tf.resource, name=None)\n",
            "  2824286524288: TensorSpec(shape=(), dtype=tf.resource, name=None)\n",
            "  2824286530976: TensorSpec(shape=(), dtype=tf.resource, name=None)\n",
            "  2824286529392: TensorSpec(shape=(), dtype=tf.resource, name=None)\n",
            "  2824286532560: TensorSpec(shape=(), dtype=tf.resource, name=None)\n",
            "  2824286528160: TensorSpec(shape=(), dtype=tf.resource, name=None)\n",
            "  2824286530800: TensorSpec(shape=(), dtype=tf.resource, name=None)\n",
            "  2824286530096: TensorSpec(shape=(), dtype=tf.resource, name=None)\n",
            "  2824286603392: TensorSpec(shape=(), dtype=tf.resource, name=None)\n",
            "  2824286606208: TensorSpec(shape=(), dtype=tf.resource, name=None)\n",
            "  2824286602160: TensorSpec(shape=(), dtype=tf.resource, name=None)\n",
            "  2824286603920: TensorSpec(shape=(), dtype=tf.resource, name=None)\n",
            "  2824286612544: TensorSpec(shape=(), dtype=tf.resource, name=None)\n",
            "  2824286610960: TensorSpec(shape=(), dtype=tf.resource, name=None)\n",
            "  2824286614128: TensorSpec(shape=(), dtype=tf.resource, name=None)\n",
            "  2824286609728: TensorSpec(shape=(), dtype=tf.resource, name=None)\n",
            "  2824286612368: TensorSpec(shape=(), dtype=tf.resource, name=None)\n",
            "  2824286603744: TensorSpec(shape=(), dtype=tf.resource, name=None)\n",
            "  2824286652544: TensorSpec(shape=(), dtype=tf.resource, name=None)\n",
            "  2824286655184: TensorSpec(shape=(), dtype=tf.resource, name=None)\n",
            "  2824286651312: TensorSpec(shape=(), dtype=tf.resource, name=None)\n",
            "  2824286653776: TensorSpec(shape=(), dtype=tf.resource, name=None)\n",
            "  2824286661344: TensorSpec(shape=(), dtype=tf.resource, name=None)\n",
            "  2824286659760: TensorSpec(shape=(), dtype=tf.resource, name=None)\n",
            "  2824286663104: TensorSpec(shape=(), dtype=tf.resource, name=None)\n",
            "  2824286658528: TensorSpec(shape=(), dtype=tf.resource, name=None)\n",
            "  2824286661168: TensorSpec(shape=(), dtype=tf.resource, name=None)\n",
            "  2824286666272: TensorSpec(shape=(), dtype=tf.resource, name=None)\n",
            "  2824286750496: TensorSpec(shape=(), dtype=tf.resource, name=None)\n",
            "  2824286753136: TensorSpec(shape=(), dtype=tf.resource, name=None)\n",
            "  2824286749264: TensorSpec(shape=(), dtype=tf.resource, name=None)\n",
            "  2824286751728: TensorSpec(shape=(), dtype=tf.resource, name=None)\n",
            "  2824286759648: TensorSpec(shape=(), dtype=tf.resource, name=None)\n",
            "  2824286758064: TensorSpec(shape=(), dtype=tf.resource, name=None)\n",
            "  2824286761232: TensorSpec(shape=(), dtype=tf.resource, name=None)\n",
            "  2824286756832: TensorSpec(shape=(), dtype=tf.resource, name=None)\n",
            "  2824286759472: TensorSpec(shape=(), dtype=tf.resource, name=None)\n",
            "  2824286758768: TensorSpec(shape=(), dtype=tf.resource, name=None)\n",
            "  2824286866416: TensorSpec(shape=(), dtype=tf.resource, name=None)\n",
            "  2824286869232: TensorSpec(shape=(), dtype=tf.resource, name=None)\n",
            "  2824286865184: TensorSpec(shape=(), dtype=tf.resource, name=None)\n",
            "  2824286866944: TensorSpec(shape=(), dtype=tf.resource, name=None)\n",
            "  2824286875568: TensorSpec(shape=(), dtype=tf.resource, name=None)\n",
            "  2824286873984: TensorSpec(shape=(), dtype=tf.resource, name=None)\n",
            "  2824286877152: TensorSpec(shape=(), dtype=tf.resource, name=None)\n",
            "  2824286872752: TensorSpec(shape=(), dtype=tf.resource, name=None)\n",
            "  2824286875392: TensorSpec(shape=(), dtype=tf.resource, name=None)\n",
            "  2824286878912: TensorSpec(shape=(), dtype=tf.resource, name=None)\n",
            "  2824286979520: TensorSpec(shape=(), dtype=tf.resource, name=None)\n",
            "  2824286982160: TensorSpec(shape=(), dtype=tf.resource, name=None)\n",
            "  2824286978112: TensorSpec(shape=(), dtype=tf.resource, name=None)\n",
            "  2824286980752: TensorSpec(shape=(), dtype=tf.resource, name=None)\n",
            "  2824286988320: TensorSpec(shape=(), dtype=tf.resource, name=None)\n",
            "  2824286986736: TensorSpec(shape=(), dtype=tf.resource, name=None)\n",
            "  2824286990080: TensorSpec(shape=(), dtype=tf.resource, name=None)\n",
            "  2824286985504: TensorSpec(shape=(), dtype=tf.resource, name=None)\n",
            "  2824286988144: TensorSpec(shape=(), dtype=tf.resource, name=None)\n",
            "  2824286993248: TensorSpec(shape=(), dtype=tf.resource, name=None)\n",
            "  2824287046816: TensorSpec(shape=(), dtype=tf.resource, name=None)\n",
            "  2824287044352: TensorSpec(shape=(), dtype=tf.resource, name=None)\n",
            "  2824287046640: TensorSpec(shape=(), dtype=tf.resource, name=None)\n",
            "  2824287045936: TensorSpec(shape=(), dtype=tf.resource, name=None)\n",
            "  2824287053856: TensorSpec(shape=(), dtype=tf.resource, name=None)\n",
            "  2824287052272: TensorSpec(shape=(), dtype=tf.resource, name=None)\n",
            "  2824287055440: TensorSpec(shape=(), dtype=tf.resource, name=None)\n",
            "  2824287051040: TensorSpec(shape=(), dtype=tf.resource, name=None)\n",
            "  2824287053680: TensorSpec(shape=(), dtype=tf.resource, name=None)\n",
            "  2824287058432: TensorSpec(shape=(), dtype=tf.resource, name=None)\n",
            "  2824287112176: TensorSpec(shape=(), dtype=tf.resource, name=None)\n",
            "  2824287111472: TensorSpec(shape=(), dtype=tf.resource, name=None)\n",
            "  2824287111824: TensorSpec(shape=(), dtype=tf.resource, name=None)\n",
            "  2824287110416: TensorSpec(shape=(), dtype=tf.resource, name=None)\n",
            "  2824287119040: TensorSpec(shape=(), dtype=tf.resource, name=None)\n",
            "  2824287117456: TensorSpec(shape=(), dtype=tf.resource, name=None)\n",
            "  2824287120624: TensorSpec(shape=(), dtype=tf.resource, name=None)\n",
            "  2824287116224: TensorSpec(shape=(), dtype=tf.resource, name=None)\n",
            "  2824287118864: TensorSpec(shape=(), dtype=tf.resource, name=None)\n",
            "  2824287123968: TensorSpec(shape=(), dtype=tf.resource, name=None)\n",
            "  2824287210304: TensorSpec(shape=(), dtype=tf.resource, name=None)\n",
            "  2824287209776: TensorSpec(shape=(), dtype=tf.resource, name=None)\n",
            "  2824287209952: TensorSpec(shape=(), dtype=tf.resource, name=None)\n",
            "  2824287209424: TensorSpec(shape=(), dtype=tf.resource, name=None)\n",
            "  2824287216992: TensorSpec(shape=(), dtype=tf.resource, name=None)\n",
            "  2824287215408: TensorSpec(shape=(), dtype=tf.resource, name=None)\n",
            "  2824287218752: TensorSpec(shape=(), dtype=tf.resource, name=None)\n",
            "  2824287214176: TensorSpec(shape=(), dtype=tf.resource, name=None)\n",
            "  2824287216816: TensorSpec(shape=(), dtype=tf.resource, name=None)\n",
            "  2824287221920: TensorSpec(shape=(), dtype=tf.resource, name=None)\n",
            "  2824297712096: TensorSpec(shape=(), dtype=tf.resource, name=None)\n",
            "  2824297711568: TensorSpec(shape=(), dtype=tf.resource, name=None)\n",
            "  2824297710688: TensorSpec(shape=(), dtype=tf.resource, name=None)\n",
            "  2824297711216: TensorSpec(shape=(), dtype=tf.resource, name=None)\n",
            "  2824297717728: TensorSpec(shape=(), dtype=tf.resource, name=None)\n",
            "  2824297716144: TensorSpec(shape=(), dtype=tf.resource, name=None)\n",
            "  2824297719312: TensorSpec(shape=(), dtype=tf.resource, name=None)\n",
            "  2824297714912: TensorSpec(shape=(), dtype=tf.resource, name=None)\n",
            "  2824297717552: TensorSpec(shape=(), dtype=tf.resource, name=None)\n",
            "  2824298018096: TensorSpec(shape=(), dtype=tf.resource, name=None)\n",
            "  2824298015104: TensorSpec(shape=(), dtype=tf.resource, name=None)\n",
            "  2824298015456: TensorSpec(shape=(), dtype=tf.resource, name=None)\n",
            "  2824298017216: TensorSpec(shape=(), dtype=tf.resource, name=None)\n",
            "  2824298020208: TensorSpec(shape=(), dtype=tf.resource, name=None)\n",
            "  2824298016688: TensorSpec(shape=(), dtype=tf.resource, name=None)\n",
            "  2824298018800: TensorSpec(shape=(), dtype=tf.resource, name=None)\n",
            "  2824298090864: TensorSpec(shape=(), dtype=tf.resource, name=None)\n",
            "SavedModel folder created at: c:\\Users\\Ferdinand\\Downloads\\Capstone\\saved_model_tl\n"
          ]
        }
      ],
      "source": [
        "saved_model_dir = os.path.join(base_dir, 'saved_model_tl')\n",
        "model.export(saved_model_dir)\n",
        "print(f\"SavedModel folder created at: {saved_model_dir}\")"
      ]
    },
    {
      "cell_type": "markdown",
      "metadata": {
        "id": "tapZhCVEI--r"
      },
      "source": [
        "## Evaluation"
      ]
    },
    {
      "cell_type": "code",
      "execution_count": null,
      "metadata": {
        "id": "gJiFhfCqI--s"
      },
      "outputs": [],
      "source": []
    },
    {
      "cell_type": "markdown",
      "metadata": {
        "id": "zp1OIrgcMqp9"
      },
      "source": [
        "## Inference"
      ]
    },
    {
      "cell_type": "code",
      "execution_count": null,
      "metadata": {
        "id": "8-5Ke8JEMtWz"
      },
      "outputs": [],
      "source": []
    }
  ],
  "metadata": {
    "colab": {
      "provenance": []
    },
    "kernelspec": {
      "display_name": "venv",
      "language": "python",
      "name": "python3"
    },
    "language_info": {
      "codemirror_mode": {
        "name": "ipython",
        "version": 3
      },
      "file_extension": ".py",
      "mimetype": "text/x-python",
      "name": "python",
      "nbconvert_exporter": "python",
      "pygments_lexer": "ipython3",
      "version": "3.10.0"
    },
    "orig_nbformat": 4
  },
  "nbformat": 4,
  "nbformat_minor": 0
}
